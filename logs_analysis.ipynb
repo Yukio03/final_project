{
 "cells": [
  {
   "cell_type": "markdown",
   "id": "048ab9a5",
   "metadata": {},
   "source": [
    "# Анализ логов"
   ]
  },
  {
   "cell_type": "code",
   "execution_count": 2,
   "id": "fc048764",
   "metadata": {},
   "outputs": [
    {
     "name": "stdout",
     "output_type": "stream",
     "text": [
      "Requirement already satisfied: pandas in c:\\users\\raspa\\anaconda3\\envs\\py3103\\lib\\site-packages (1.5.2)\n",
      "Requirement already satisfied: python-dateutil>=2.8.1 in c:\\users\\raspa\\anaconda3\\envs\\py3103\\lib\\site-packages (from pandas) (2.8.2)\n",
      "Requirement already satisfied: pytz>=2020.1 in c:\\users\\raspa\\anaconda3\\envs\\py3103\\lib\\site-packages (from pandas) (2022.1)\n",
      "Requirement already satisfied: numpy>=1.21.0 in c:\\users\\raspa\\anaconda3\\envs\\py3103\\lib\\site-packages (from pandas) (1.24.0)\n",
      "Requirement already satisfied: six>=1.5 in c:\\users\\raspa\\anaconda3\\envs\\py3103\\lib\\site-packages (from python-dateutil>=2.8.1->pandas) (1.16.0)\n",
      "Requirement already satisfied: pyyaml in c:\\users\\raspa\\anaconda3\\envs\\py3103\\lib\\site-packages (6.0)\n",
      "Requirement already satisfied: ua-parser in c:\\users\\raspa\\anaconda3\\envs\\py3103\\lib\\site-packages (0.16.1)\n",
      "Requirement already satisfied: user-agents in c:\\users\\raspa\\anaconda3\\envs\\py3103\\lib\\site-packages (2.2.0)\n"
     ]
    }
   ],
   "source": [
    "from pyspark.sql import SparkSession\n",
    "from pyspark.sql import Row\n",
    "from pyspark.sql.types import StructType, StructField, IntegerType, StringType, BooleanType, FloatType, DateType, TimestampType\n",
    "\n",
    "from datetime import datetime\n",
    "from pyspark.sql.functions import *\n",
    "\n",
    "!pip install pandas\n",
    "import pandas as pd\n",
    "\n",
    "!pip install pyyaml ua-parser user-agents\n",
    "from user_agents import parse\n",
    "# библиотека для парсинга user-agent\n",
    "\n",
    "\n",
    "# импорт модулей и библиотек"
   ]
  },
  {
   "cell_type": "code",
   "execution_count": 91,
   "id": "d5d92a4c",
   "metadata": {},
   "outputs": [],
   "source": [
    "spark = SparkSession \\\n",
    "    .builder \\\n",
    "    .appName(\"Log analysis\") \\\n",
    "    .config(\"spark.jars\", \"C:/Users/raspa/Desktop/spark-3.3.1-bin-hadoop3/jars/postgresql-42.5.1.jar\") \\\n",
    "    .config(\"spark.driver.bindAddress\",\"localhost\") \\\n",
    "    .config(\"spark.ui.port\",\"4040\") \\\n",
    "    .getOrCreate()\n",
    "\n",
    "# создание spark сессии"
   ]
  },
  {
   "cell_type": "code",
   "execution_count": 4,
   "id": "e0e35c1a",
   "metadata": {},
   "outputs": [],
   "source": [
    "client_hostname = spark.read.csv('C:/Users/raspa/Desktop/data_ignore/client_hostname.csv', header=True)\n",
    "# csv файл с данными клиентов"
   ]
  },
  {
   "cell_type": "code",
   "execution_count": null,
   "id": "b3add08d",
   "metadata": {},
   "outputs": [],
   "source": [
    "client_hostname.show(15)"
   ]
  },
  {
   "cell_type": "code",
   "execution_count": 6,
   "id": "4a808bfe",
   "metadata": {},
   "outputs": [],
   "source": [
    "def edit_alias_list(str):\n",
    "    if str == \"[Errno 1] Unknown host\":\n",
    "        return \"unknown\"\n",
    "    else:\n",
    "        return str[2:len(str)-2]\n",
    "    \n",
    "    \n",
    "def edit_address_list(str):\n",
    "    if str == \"null\":\n",
    "        return \"unknown\"\n",
    "    elif str is None:\n",
    "        return \"unknown\"\n",
    "    else:\n",
    "        return str[2:len(str)-2]\n",
    "    \n",
    "# функция для замены пропущенных значений и редактировании строк(очищает от скобок и кавычек в строке)"
   ]
  },
  {
   "cell_type": "code",
   "execution_count": 7,
   "id": "b7d2423c",
   "metadata": {},
   "outputs": [],
   "source": [
    "func_alias_list = udf(edit_alias_list, StringType())\n",
    "func_address_list = udf(edit_address_list, StringType())"
   ]
  },
  {
   "cell_type": "code",
   "execution_count": 8,
   "id": "5d937971",
   "metadata": {},
   "outputs": [],
   "source": [
    "client_hostname = client_hostname.withColumn(\"alias_list_new\", func_alias_list(\"alias_list\"))\n",
    "client_hostname = client_hostname.drop(\"alias_list\")\n",
    "client_hostname = client_hostname.withColumn(\"address_list_new\", func_address_list(\"address_list\"))\n",
    "client_hostname = client_hostname.drop(\"address_list\")"
   ]
  },
  {
   "cell_type": "code",
   "execution_count": 9,
   "id": "23e06b80",
   "metadata": {},
   "outputs": [],
   "source": [
    "client_hostname = client_hostname.withColumnRenamed(\"alias_list_new\", \"alias_list\")\\\n",
    "       .withColumnRenamed(\"address_list_new\", \"address_list\")"
   ]
  },
  {
   "cell_type": "code",
   "execution_count": 10,
   "id": "17e3b747",
   "metadata": {},
   "outputs": [],
   "source": [
    "df = pd.read_table('C:/Users/raspa/Desktop/data_ignore/access.log', engine='python', header=None, \n",
    "                   names=[\"ip\", \"datetime\", \"request\", \"code_req\", \"port\", \"user_agent\"], \n",
    "                   sep=\" - - \\[{1}(.+)\\] \\\"(.*?)\\\" (\\d+) (\\d+) .+ \\\"(.{2,}?)\\\".*\",  index_col=False)\n",
    "\n",
    "# загрузка главного файла с данными\n",
    "# первичная обработка с помощью RexEx"
   ]
  },
  {
   "cell_type": "code",
   "execution_count": 26,
   "id": "15922c6c",
   "metadata": {},
   "outputs": [],
   "source": [
    "df.code_req = df.code_req.fillna(0)\n",
    "df.port = df.port.fillna(0)\n",
    "df = df.astype({\"code_req\": int, \"port\": int, \"user_agent\": str})\n",
    "\n",
    "\n",
    "# замена пропущенных значений в столбцах на 0\n",
    "# для конвертации в тип *integer*"
   ]
  },
  {
   "cell_type": "code",
   "execution_count": 14,
   "id": "49fe96d0",
   "metadata": {},
   "outputs": [],
   "source": [
    "format_date = '%d/%b/%Y:%H:%M:%S +0330'"
   ]
  },
  {
   "cell_type": "code",
   "execution_count": 15,
   "id": "63299f64",
   "metadata": {},
   "outputs": [],
   "source": [
    "df.datetime = df.datetime.apply(lambda x: datetime.strptime(x, format_date) if x is not(None) else 0)\n",
    "\n",
    "# перевод даты из строки в формат datetime"
   ]
  },
  {
   "cell_type": "code",
   "execution_count": null,
   "id": "fce62d05",
   "metadata": {},
   "outputs": [],
   "source": [
    "df[\"browser\"] = df.user_agent.apply(lambda x: parse(x).browser.family)\n",
    "\n",
    "# вытащил из user-agent название браузера"
   ]
  },
  {
   "cell_type": "code",
   "execution_count": null,
   "id": "7491c0f4",
   "metadata": {},
   "outputs": [],
   "source": [
    "df[\"device\"] = df.user_agent.apply(lambda x: parse(x).device.brand)\n",
    "\n",
    "# здесь вытащил бренд смартфона"
   ]
  },
  {
   "cell_type": "code",
   "execution_count": 96,
   "id": "db3c5301",
   "metadata": {},
   "outputs": [
    {
     "data": {
      "text/html": [
       "<div>\n",
       "<style scoped>\n",
       "    .dataframe tbody tr th:only-of-type {\n",
       "        vertical-align: middle;\n",
       "    }\n",
       "\n",
       "    .dataframe tbody tr th {\n",
       "        vertical-align: top;\n",
       "    }\n",
       "\n",
       "    .dataframe thead th {\n",
       "        text-align: right;\n",
       "    }\n",
       "</style>\n",
       "<table border=\"1\" class=\"dataframe\">\n",
       "  <thead>\n",
       "    <tr style=\"text-align: right;\">\n",
       "      <th></th>\n",
       "      <th>ip</th>\n",
       "      <th>datetime</th>\n",
       "      <th>request</th>\n",
       "      <th>code_req</th>\n",
       "      <th>port</th>\n",
       "      <th>user_agent</th>\n",
       "    </tr>\n",
       "  </thead>\n",
       "  <tbody>\n",
       "    <tr>\n",
       "      <th>0</th>\n",
       "      <td>54.36.149.41</td>\n",
       "      <td>2019-01-22 03:56:14</td>\n",
       "      <td>GET /filter/27|13%20%D9%85%DA%AF%D8%A7%D9%BE%D...</td>\n",
       "      <td>200</td>\n",
       "      <td>30577</td>\n",
       "      <td>Mozilla/5.0 (compatible; AhrefsBot/6.1; +http:...</td>\n",
       "    </tr>\n",
       "    <tr>\n",
       "      <th>1</th>\n",
       "      <td>31.56.96.51</td>\n",
       "      <td>2019-01-22 03:56:16</td>\n",
       "      <td>GET /image/60844/productModel/200x200 HTTP/1.1</td>\n",
       "      <td>200</td>\n",
       "      <td>5667</td>\n",
       "      <td>Mozilla/5.0 (Linux; Android 6.0; ALE-L21 Build...</td>\n",
       "    </tr>\n",
       "    <tr>\n",
       "      <th>2</th>\n",
       "      <td>31.56.96.51</td>\n",
       "      <td>2019-01-22 03:56:16</td>\n",
       "      <td>GET /image/61474/productModel/200x200 HTTP/1.1</td>\n",
       "      <td>200</td>\n",
       "      <td>5379</td>\n",
       "      <td>Mozilla/5.0 (Linux; Android 6.0; ALE-L21 Build...</td>\n",
       "    </tr>\n",
       "    <tr>\n",
       "      <th>3</th>\n",
       "      <td>40.77.167.129</td>\n",
       "      <td>2019-01-22 03:56:17</td>\n",
       "      <td>GET /image/14925/productModel/100x100 HTTP/1.1</td>\n",
       "      <td>200</td>\n",
       "      <td>1696</td>\n",
       "      <td>Mozilla/5.0 (compatible; bingbot/2.0; +http://...</td>\n",
       "    </tr>\n",
       "    <tr>\n",
       "      <th>4</th>\n",
       "      <td>91.99.72.15</td>\n",
       "      <td>2019-01-22 03:56:17</td>\n",
       "      <td>GET /product/31893/62100/%D8%B3%D8%B4%D9%88%D8...</td>\n",
       "      <td>200</td>\n",
       "      <td>41483</td>\n",
       "      <td>Mozilla/5.0 (Windows NT 6.2; Win64; x64; rv:16...</td>\n",
       "    </tr>\n",
       "  </tbody>\n",
       "</table>\n",
       "</div>"
      ],
      "text/plain": [
       "              ip             datetime  \\\n",
       "0   54.36.149.41  2019-01-22 03:56:14   \n",
       "1    31.56.96.51  2019-01-22 03:56:16   \n",
       "2    31.56.96.51  2019-01-22 03:56:16   \n",
       "3  40.77.167.129  2019-01-22 03:56:17   \n",
       "4    91.99.72.15  2019-01-22 03:56:17   \n",
       "\n",
       "                                             request  code_req   port  \\\n",
       "0  GET /filter/27|13%20%D9%85%DA%AF%D8%A7%D9%BE%D...       200  30577   \n",
       "1     GET /image/60844/productModel/200x200 HTTP/1.1       200   5667   \n",
       "2     GET /image/61474/productModel/200x200 HTTP/1.1       200   5379   \n",
       "3     GET /image/14925/productModel/100x100 HTTP/1.1       200   1696   \n",
       "4  GET /product/31893/62100/%D8%B3%D8%B4%D9%88%D8...       200  41483   \n",
       "\n",
       "                                          user_agent  \n",
       "0  Mozilla/5.0 (compatible; AhrefsBot/6.1; +http:...  \n",
       "1  Mozilla/5.0 (Linux; Android 6.0; ALE-L21 Build...  \n",
       "2  Mozilla/5.0 (Linux; Android 6.0; ALE-L21 Build...  \n",
       "3  Mozilla/5.0 (compatible; bingbot/2.0; +http://...  \n",
       "4  Mozilla/5.0 (Windows NT 6.2; Win64; x64; rv:16...  "
      ]
     },
     "execution_count": 96,
     "metadata": {},
     "output_type": "execute_result"
    }
   ],
   "source": [
    "df.head(5)"
   ]
  },
  {
   "cell_type": "code",
   "execution_count": 72,
   "id": "f8c2278b",
   "metadata": {},
   "outputs": [
    {
     "name": "stderr",
     "output_type": "stream",
     "text": [
      "C:\\Users\\raspa\\AppData\\Local\\Temp\\ipykernel_15156\\880841367.py:2: SettingWithCopyWarning: \n",
      "A value is trying to be set on a copy of a slice from a DataFrame.\n",
      "Try using .loc[row_indexer,col_indexer] = value instead\n",
      "\n",
      "See the caveats in the documentation: https://pandas.pydata.org/pandas-docs/stable/user_guide/indexing.html#returning-a-view-versus-a-copy\n",
      "  df2[\"browser\"] = df2.user_agent.apply(lambda x: parse(x).browser.family)\n",
      "C:\\Users\\raspa\\AppData\\Local\\Temp\\ipykernel_15156\\880841367.py:3: SettingWithCopyWarning: \n",
      "A value is trying to be set on a copy of a slice from a DataFrame.\n",
      "Try using .loc[row_indexer,col_indexer] = value instead\n",
      "\n",
      "See the caveats in the documentation: https://pandas.pydata.org/pandas-docs/stable/user_guide/indexing.html#returning-a-view-versus-a-copy\n",
      "  df2[\"device\"] = df2.user_agent.apply(lambda x: parse(x).device.brand if parse(x).device.brand is not(None) else parse(x).os.family)\n"
     ]
    }
   ],
   "source": [
    "df2 = df[0:100000]\n",
    "df2[\"browser\"] = df2.user_agent.apply(lambda x: parse(x).browser.family)\n",
    "df2[\"device\"] = df2.user_agent.apply(lambda x: parse(x).device.brand if parse(x).device.brand is not(None) else parse(x).os.family)\n",
    "\n",
    "# взял 100 тысяч строк из 10 миллионов, так как вылезает ошибка при создании датафрейма *java.lang.OutOfMemoryError: Java heap space*\n",
    "# и добавление новых столбцов занимает очень долгое время"
   ]
  },
  {
   "cell_type": "code",
   "execution_count": 77,
   "id": "93c6b49e",
   "metadata": {},
   "outputs": [],
   "source": [
    "schema = StructType(fields=[\n",
    "    StructField(\"ip\", StringType()),\n",
    "    StructField(\"datetime\", TimestampType()),\n",
    "    StructField(\"request\", StringType()),\n",
    "    StructField(\"code_req\", IntegerType()),\n",
    "    StructField(\"port\", IntegerType()),\n",
    "    StructField(\"user_agent\", StringType()),\n",
    "    StructField(\"browser\", StringType()),\n",
    "    StructField(\"device\", StringType())\n",
    "])\n",
    "\n",
    "# схема для создания DataFrame pyspark из Pandas DataFrame"
   ]
  },
  {
   "cell_type": "code",
   "execution_count": 78,
   "id": "1ccad678",
   "metadata": {},
   "outputs": [],
   "source": [
    "logs = spark.createDataFrame(df2, schema=schema)\n"
   ]
  },
  {
   "cell_type": "code",
   "execution_count": 79,
   "id": "79936a04",
   "metadata": {},
   "outputs": [
    {
     "name": "stdout",
     "output_type": "stream",
     "text": [
      "+-------------+-------------------+--------------------+--------+-----+--------------------+-------------+-------+\n",
      "|           ip|           datetime|             request|code_req| port|          user_agent|      browser| device|\n",
      "+-------------+-------------------+--------------------+--------+-----+--------------------+-------------+-------+\n",
      "| 54.36.149.41|2019-01-22 03:56:14|GET /filter/27|13...|     200|30577|Mozilla/5.0 (comp...|    AhrefsBot| Spider|\n",
      "|  31.56.96.51|2019-01-22 03:56:16|GET /image/60844/...|     200| 5667|Mozilla/5.0 (Linu...|Chrome Mobile| Huawei|\n",
      "|  31.56.96.51|2019-01-22 03:56:16|GET /image/61474/...|     200| 5379|Mozilla/5.0 (Linu...|Chrome Mobile| Huawei|\n",
      "|40.77.167.129|2019-01-22 03:56:17|GET /image/14925/...|     200| 1696|Mozilla/5.0 (comp...|      bingbot| Spider|\n",
      "|  91.99.72.15|2019-01-22 03:56:17|GET /product/3189...|     200|41483|Mozilla/5.0 (Wind...|      Firefox|Windows|\n",
      "+-------------+-------------------+--------------------+--------+-----+--------------------+-------------+-------+\n",
      "only showing top 5 rows\n",
      "\n"
     ]
    }
   ],
   "source": [
    "logs.show(5)"
   ]
  },
  {
   "cell_type": "code",
   "execution_count": null,
   "id": "808302a4",
   "metadata": {},
   "outputs": [],
   "source": [
    "logs.select(\"ip\", \"datetime\", \"request\", \"code_req\", \"port\", \"user_agent\", \"browser\", \"device\").write.format(\"jdbc\")\\\n",
    "    .option(\"url\", \"jdbc:postgresql://localhost:5432/logs\") \\\n",
    "    .mode(\"Overwrite\") \\\n",
    "    .option(\"driver\", \"org.postgresql.Driver\").option(\"dbtable\", \"log\") \\\n",
    "    .option(\"user\", \"postgres\").option(\"password\", \"0000\").save()\n",
    "\n",
    "# сохранение датафрейма logs в БД postgres"
   ]
  },
  {
   "cell_type": "code",
   "execution_count": null,
   "id": "cd111c34",
   "metadata": {},
   "outputs": [],
   "source": [
    "client_hostname.select(\"client\", \"hostname\", \"alias_list\", \"address_list\").write.format(\"jdbc\")\\\n",
    "    .option(\"url\", \"jdbc:postgresql://localhost:5432/logs\") \\\n",
    "    .mode(\"Overwrite\") \\\n",
    "    .option(\"driver\", \"org.postgresql.Driver\").option(\"dbtable\", \"hostname\") \\\n",
    "    .option(\"user\", \"postgres\").option(\"password\", \"0000\").save()\n",
    "\n",
    "# сохранение датафрейма client_hostname в БД postgres"
   ]
  },
  {
   "cell_type": "code",
   "execution_count": null,
   "id": "89ba8acc",
   "metadata": {},
   "outputs": [],
   "source": []
  },
  {
   "cell_type": "code",
   "execution_count": null,
   "id": "1ceded41",
   "metadata": {},
   "outputs": [],
   "source": []
  },
  {
   "cell_type": "code",
   "execution_count": null,
   "id": "1a045702",
   "metadata": {},
   "outputs": [],
   "source": []
  },
  {
   "cell_type": "code",
   "execution_count": null,
   "id": "8a7127de",
   "metadata": {},
   "outputs": [],
   "source": []
  }
 ],
 "metadata": {
  "kernelspec": {
   "display_name": "Python 3 (ipykernel)",
   "language": "python",
   "name": "python3"
  },
  "language_info": {
   "codemirror_mode": {
    "name": "ipython",
    "version": 3
   },
   "file_extension": ".py",
   "mimetype": "text/x-python",
   "name": "python",
   "nbconvert_exporter": "python",
   "pygments_lexer": "ipython3",
   "version": "3.10.3"
  }
 },
 "nbformat": 4,
 "nbformat_minor": 5
}
